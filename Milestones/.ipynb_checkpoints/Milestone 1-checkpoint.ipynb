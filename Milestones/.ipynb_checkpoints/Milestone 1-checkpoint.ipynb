{
 "cells": [
  {
   "cell_type": "markdown",
   "metadata": {},
   "source": [
    "### Possible sources of data\n",
    "Boston Airbnb open data (Kaggle): https://www.kaggle.com/airbnb/boston\n",
    "Washintgon Airbnb open data (data.world): https://data.world/codefordc/airbnb-washington-d-c-2015-10-03\n",
    "San Francisco Airbnb open data (data.world): https://data.world/ajsanne/sf-airbnb-listings\n",
    "New York Airbnb open data (Kaggle): https://www.kaggle.com/dgomonov/new-york-city-airbnb-open-data"
   ]
  },
  {
   "cell_type": "markdown",
   "metadata": {},
   "source": [
    "### Project Plan\n",
    "Since the first time Airbnb was established in 2008, its appearance has disrupted and changed the traditional ways of hospitality and acoomodation around the world. The number of rental listings on Airbnb has expanded exponentially over the past few years. Based on the motivation to understand its explosive growth thoroughly, this project aims to extract data from websites, manipulate it, run exploratory analysis on procesed one, apply machine learning models, and finally suggest possible ideas to help owners or customers to choose the best accomodation they need.\n",
    "Questions\n",
    "In details, the project will explore how the locations of these accomodations, ranges of time customers are likely to travel (supply and demand principle), and other reasons may affect the price, ratings, and number of listings. Furthermore, customers' reviews play an important roles in improving customer service, which may help the company run advertisement for suitable targets and connect customers or hosts with same interests. Thus, I want to explore how these reviews can be extracted and briefly identify some characteristics of customers to personalize their experiences. Further questions:\n",
    "What distinguishes hosts that have Superhost status? Do all Superhosts properly qualify the criteria that AirBnB has set for them?\n",
    "What time of the year are AirBnBs most popular in Seattle? Are specific holiday seasons more popular?\n",
    "What are the most important characteristics of a listing, and how do they influence price?\n",
    "\n",
    "### Possible tools\n",
    "Python libraries:\n",
    "1. Data extraction and manipulation: numpy, pandas\n",
    "2. Data visualization: plotly, seaborn, ipywidgets, and matplotlib\n",
    "3. Data analysis: scipy and scikit-learn\n",
    "Others: Natural language processing (NLP) and linear regression."
   ]
  },
  {
   "cell_type": "code",
   "execution_count": null,
   "metadata": {},
   "outputs": [],
   "source": []
  }
 ],
 "metadata": {
  "kernelspec": {
   "display_name": "Python 3",
   "language": "python",
   "name": "python3"
  },
  "language_info": {
   "codemirror_mode": {
    "name": "ipython",
    "version": 3
   },
   "file_extension": ".py",
   "mimetype": "text/x-python",
   "name": "python",
   "nbconvert_exporter": "python",
   "pygments_lexer": "ipython3",
   "version": "3.7.4"
  }
 },
 "nbformat": 4,
 "nbformat_minor": 2
}
